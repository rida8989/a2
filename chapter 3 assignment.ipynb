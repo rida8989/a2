{
 "cells": [
  {
   "cell_type": "code",
   "execution_count": null,
   "id": "6239f7e4",
   "metadata": {},
   "outputs": [],
   "source": []
  },
  {
   "cell_type": "code",
   "execution_count": 1,
   "id": "dc332d29",
   "metadata": {},
   "outputs": [
    {
     "name": "stdout",
     "output_type": "stream",
     "text": [
      "sehar\n",
      "rida\n",
      "anila\n"
     ]
    }
   ],
   "source": [
    "names = ['sehar', 'rida', 'anila']\n",
    "\n",
    "print(names[0])\n",
    "print(names[1])\n",
    "print(names[2])"
   ]
  },
  {
   "cell_type": "code",
   "execution_count": 3,
   "id": "29a64891",
   "metadata": {},
   "outputs": [
    {
     "name": "stdout",
     "output_type": "stream",
     "text": [
      "Hello,Maryam!\n",
      "Hello,Ayesha\n",
      "Hello, Anila\n"
     ]
    }
   ],
   "source": [
    "names = ['anila', 'ayesha', 'maryam']\n",
    "\n",
    "msg =   f\"Hello,{names[2].title()}!\"\n",
    "print(msg)\n",
    "\n",
    "msg =   f\"Hello,{names[1].title()}\"\n",
    "print(msg)\n",
    "\n",
    "msg =  f\"Hello, {names[0].title()}\"\n",
    "print(msg)"
   ]
  },
  {
   "cell_type": "code",
   "execution_count": 4,
   "id": "92d40ae6",
   "metadata": {},
   "outputs": [
    {
     "name": "stdout",
     "output_type": "stream",
     "text": [
      "Guido Van Rossum, please come to dinner.\n",
      "Jack Turner, please come to dinner.\n",
      "Lynn Hill, please come to dinner.\n"
     ]
    }
   ],
   "source": [
    "guests = ['guido van rossum', 'jack turner', 'lynn hill']\n",
    "\n",
    "name = guests[0].title()\n",
    "print(f\"{name}, please come to dinner.\")\n",
    "\n",
    "name = guests[1].title()\n",
    "print(f\"{name}, please come to dinner.\")\n",
    "\n",
    "name = guests[2].title()\n",
    "print(f\"{name}, please come to dinner.\")"
   ]
  },
  {
   "cell_type": "code",
   "execution_count": null,
   "id": "57b2b6c1",
   "metadata": {},
   "outputs": [],
   "source": []
  },
  {
   "cell_type": "code",
   "execution_count": null,
   "id": "d0f38741",
   "metadata": {},
   "outputs": [],
   "source": []
  },
  {
   "cell_type": "code",
   "execution_count": null,
   "id": "266f0785",
   "metadata": {},
   "outputs": [],
   "source": []
  },
  {
   "cell_type": "code",
   "execution_count": null,
   "id": "1a5e8a16",
   "metadata": {},
   "outputs": [],
   "source": []
  },
  {
   "cell_type": "code",
   "execution_count": null,
   "id": "e6984b0c",
   "metadata": {},
   "outputs": [],
   "source": []
  },
  {
   "cell_type": "code",
   "execution_count": null,
   "id": "6c80f218",
   "metadata": {},
   "outputs": [],
   "source": []
  },
  {
   "cell_type": "code",
   "execution_count": null,
   "id": "87cad45b",
   "metadata": {},
   "outputs": [],
   "source": []
  },
  {
   "cell_type": "code",
   "execution_count": null,
   "id": "1452244c",
   "metadata": {},
   "outputs": [],
   "source": []
  },
  {
   "cell_type": "code",
   "execution_count": null,
   "id": "9ffcac8b",
   "metadata": {},
   "outputs": [],
   "source": []
  },
  {
   "cell_type": "code",
   "execution_count": null,
   "id": "55c5a7a0",
   "metadata": {},
   "outputs": [],
   "source": []
  }
 ],
 "metadata": {
  "kernelspec": {
   "display_name": "Python 3 (ipykernel)",
   "language": "python",
   "name": "python3"
  },
  "language_info": {
   "codemirror_mode": {
    "name": "ipython",
    "version": 3
   },
   "file_extension": ".py",
   "mimetype": "text/x-python",
   "name": "python",
   "nbconvert_exporter": "python",
   "pygments_lexer": "ipython3",
   "version": "3.9.7"
  }
 },
 "nbformat": 4,
 "nbformat_minor": 5
}
